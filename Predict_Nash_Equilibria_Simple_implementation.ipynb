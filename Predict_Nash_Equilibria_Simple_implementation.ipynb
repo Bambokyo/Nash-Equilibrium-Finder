{
 "cells": [
  {
   "cell_type": "code",
   "execution_count": 3,
   "id": "175501e7-b759-4274-a1e4-390e9975443c",
   "metadata": {},
   "outputs": [],
   "source": [
    "import numpy as np\n",
    "import tensorflow as tf\n",
    "from tensorflow import keras\n",
    "from tensorflow.keras import layers"
   ]
  },
  {
   "cell_type": "code",
   "execution_count": 5,
   "id": "835c2ae2-2da3-4c81-9f71-b36545e1be41",
   "metadata": {},
   "outputs": [],
   "source": [
    "# Define the game payoff matrix\n",
    "# Payoff matrices for player 1 and player 2\n",
    "payoff_matrix_player1 = np.array([[3, 0],\n",
    "                                   [5, 1]])\n",
    "\n",
    "payoff_matrix_player2 = np.array([[3, 5],\n",
    "                                   [0, 1]])\n"
   ]
  },
  {
   "cell_type": "code",
   "execution_count": 17,
   "id": "8273ee4c-da32-441f-a1f8-683f3dad68e1",
   "metadata": {},
   "outputs": [],
   "source": [
    "# Neural Network Model\n",
    "def create_model():\n",
    "    model = keras.Sequential([\n",
    "        layers.Input(shape=(2,)),  # Two inputs for the two players' strategies\n",
    "        layers.Dense(16, activation='relu'),\n",
    "        layers.Dense(16, activation='relu'),\n",
    "        layers.Dense(2)  # Two outputs for the payoffs\n",
    "    ])\n",
    "    model.compile(optimizer='adam', loss='mean_squared_error', metrics=['mae'])\n",
    "    return model\n",
    "\n",
    "# Generate training data\n",
    "def generate_data(num_samples=10000):\n",
    "    X = []\n",
    "    y = []\n",
    "    for _ in range(num_samples):\n",
    "        # Random strategies chosen by both players\n",
    "        player1_strategy = np.random.randint(2)\n",
    "        player2_strategy = np.random.randint(2)\n",
    "        \n",
    "        # Payoffs based on strategies\n",
    "        payoff1 = payoff_matrix_player1[player1_strategy, player2_strategy]\n",
    "        payoff2 = payoff_matrix_player2[player1_strategy, player2_strategy]\n",
    "        \n",
    "        # Input: strategies of both players\n",
    "        X.append([player1_strategy, player2_strategy])\n",
    "        # Output: payoffs as a vector\n",
    "        y.append([payoff1, payoff2])\n",
    "        \n",
    "    return np.array(X), np.array(y)\n",
    "\n"
   ]
  },
  {
   "cell_type": "code",
   "execution_count": 19,
   "id": "efcd3cf9-0797-4975-b3c8-fa0b046f1a8f",
   "metadata": {},
   "outputs": [],
   "source": [
    "# Create model\n",
    "model = create_model()\n",
    "\n",
    "# Generate data\n",
    "X_train, y_train = generate_data()\n"
   ]
  },
  {
   "cell_type": "code",
   "execution_count": 21,
   "id": "415f6402-a277-4271-93dd-f0f181632043",
   "metadata": {},
   "outputs": [
    {
     "data": {
      "text/plain": [
       "array([[1, 0],\n",
       "       [0, 0],\n",
       "       [0, 1],\n",
       "       ...,\n",
       "       [1, 1],\n",
       "       [1, 1],\n",
       "       [0, 0]])"
      ]
     },
     "execution_count": 21,
     "metadata": {},
     "output_type": "execute_result"
    }
   ],
   "source": [
    "X_train"
   ]
  },
  {
   "cell_type": "code",
   "execution_count": 23,
   "id": "16276a91-4e25-4333-9917-672ce9e06a46",
   "metadata": {},
   "outputs": [
    {
     "data": {
      "text/plain": [
       "array([[5, 0],\n",
       "       [3, 3],\n",
       "       [0, 5],\n",
       "       ...,\n",
       "       [1, 1],\n",
       "       [1, 1],\n",
       "       [3, 3]])"
      ]
     },
     "execution_count": 23,
     "metadata": {},
     "output_type": "execute_result"
    }
   ],
   "source": [
    "y_train"
   ]
  },
  {
   "cell_type": "code",
   "execution_count": 27,
   "id": "a1a62463-c0fe-4553-aeae-dc94451ebc93",
   "metadata": {},
   "outputs": [
    {
     "name": "stdout",
     "output_type": "stream",
     "text": [
      "Epoch 1/10\n",
      "\u001b[1m313/313\u001b[0m \u001b[32m━━━━━━━━━━━━━━━━━━━━\u001b[0m\u001b[37m\u001b[0m \u001b[1m1s\u001b[0m 2ms/step - loss: 5.2022e-15 - mae: 2.2157e-08\n",
      "Epoch 2/10\n",
      "\u001b[1m313/313\u001b[0m \u001b[32m━━━━━━━━━━━━━━━━━━━━\u001b[0m\u001b[37m\u001b[0m \u001b[1m1s\u001b[0m 2ms/step - loss: 1.2724e-14 - mae: 4.3987e-08\n",
      "Epoch 3/10\n",
      "\u001b[1m313/313\u001b[0m \u001b[32m━━━━━━━━━━━━━━━━━━━━\u001b[0m\u001b[37m\u001b[0m \u001b[1m1s\u001b[0m 2ms/step - loss: 4.2482e-15 - mae: 1.9923e-08\n",
      "Epoch 4/10\n",
      "\u001b[1m313/313\u001b[0m \u001b[32m━━━━━━━━━━━━━━━━━━━━\u001b[0m\u001b[37m\u001b[0m \u001b[1m1s\u001b[0m 3ms/step - loss: 7.5034e-15 - mae: 3.0005e-08\n",
      "Epoch 5/10\n",
      "\u001b[1m313/313\u001b[0m \u001b[32m━━━━━━━━━━━━━━━━━━━━\u001b[0m\u001b[37m\u001b[0m \u001b[1m1s\u001b[0m 2ms/step - loss: 8.7936e-16 - mae: 1.0784e-08\n",
      "Epoch 6/10\n",
      "\u001b[1m313/313\u001b[0m \u001b[32m━━━━━━━━━━━━━━━━━━━━\u001b[0m\u001b[37m\u001b[0m \u001b[1m1s\u001b[0m 3ms/step - loss: 4.3015e-15 - mae: 2.1773e-08\n",
      "Epoch 7/10\n",
      "\u001b[1m313/313\u001b[0m \u001b[32m━━━━━━━━━━━━━━━━━━━━\u001b[0m\u001b[37m\u001b[0m \u001b[1m1s\u001b[0m 2ms/step - loss: 1.1148e-15 - mae: 1.1637e-08\n",
      "Epoch 8/10\n",
      "\u001b[1m313/313\u001b[0m \u001b[32m━━━━━━━━━━━━━━━━━━━━\u001b[0m\u001b[37m\u001b[0m \u001b[1m1s\u001b[0m 2ms/step - loss: 1.7901e-15 - mae: 1.6772e-08\n",
      "Epoch 9/10\n",
      "\u001b[1m313/313\u001b[0m \u001b[32m━━━━━━━━━━━━━━━━━━━━\u001b[0m\u001b[37m\u001b[0m \u001b[1m1s\u001b[0m 2ms/step - loss: 1.4925e-15 - mae: 1.4475e-08\n",
      "Epoch 10/10\n",
      "\u001b[1m313/313\u001b[0m \u001b[32m━━━━━━━━━━━━━━━━━━━━\u001b[0m\u001b[37m\u001b[0m \u001b[1m1s\u001b[0m 3ms/step - loss: 2.4328e-15 - mae: 1.8649e-08\n"
     ]
    },
    {
     "data": {
      "text/plain": [
       "<keras.src.callbacks.history.History at 0x18e3c12f110>"
      ]
     },
     "execution_count": 27,
     "metadata": {},
     "output_type": "execute_result"
    }
   ],
   "source": [
    "# Train the model\n",
    "model.fit(X_train, y_train, epochs=10, batch_size=32)"
   ]
  },
  {
   "cell_type": "code",
   "execution_count": 29,
   "id": "ab1fa167-54a0-4179-b7dd-7e3f481c758a",
   "metadata": {},
   "outputs": [],
   "source": [
    "# Function to predict strategies\n",
    "def predict_nash_equilibrium(model):\n",
    "    # We will predict the payoffs for all combinations of strategies\n",
    "    strategy_combinations = np.array([[i, j] for i in range(2) for j in range(2)])\n",
    "    predicted_payoffs = model.predict(strategy_combinations)\n",
    "\n",
    "    # Choose strategy with highest payoff\n",
    "    predicted_strategies = np.argmax(predicted_payoffs, axis=1)\n",
    "    return predicted_strategies, predicted_payoffs"
   ]
  },
  {
   "cell_type": "code",
   "execution_count": 31,
   "id": "ce2e93af-1261-4d2d-83bb-8729405c6056",
   "metadata": {},
   "outputs": [
    {
     "name": "stdout",
     "output_type": "stream",
     "text": [
      "\u001b[1m1/1\u001b[0m \u001b[32m━━━━━━━━━━━━━━━━━━━━\u001b[0m\u001b[37m\u001b[0m \u001b[1m0s\u001b[0m 82ms/step\n",
      "Predicted Nash Equilibria Strategies: (array([1, 1, 0, 1], dtype=int64), array([[ 3.0000000e+00,  3.0000002e+00],\n",
      "       [-1.4901161e-08,  5.0000000e+00],\n",
      "       [ 5.0000000e+00,  2.9802322e-08],\n",
      "       [ 9.9999976e-01,  1.0000002e+00]], dtype=float32))\n"
     ]
    }
   ],
   "source": [
    "# Predict Nash Equilibria\n",
    "nash_equilibria = predict_nash_equilibrium(model)\n",
    "print(\"Predicted Nash Equilibria Strategies:\", nash_equilibria)"
   ]
  },
  {
   "cell_type": "code",
   "execution_count": null,
   "id": "590d5db4-57d0-408a-853b-f3b5c74fb9cc",
   "metadata": {},
   "outputs": [],
   "source": []
  },
  {
   "cell_type": "code",
   "execution_count": null,
   "id": "1427ef80-e8f6-461b-ba7e-7b77aab5a0d9",
   "metadata": {},
   "outputs": [],
   "source": []
  },
  {
   "cell_type": "code",
   "execution_count": null,
   "id": "07784b3a-b19a-4f72-a808-a6e909f98b39",
   "metadata": {},
   "outputs": [],
   "source": []
  },
  {
   "cell_type": "code",
   "execution_count": null,
   "id": "d631771e-b56c-4d4e-a939-516e610fc7ab",
   "metadata": {},
   "outputs": [],
   "source": []
  }
 ],
 "metadata": {
  "kernelspec": {
   "display_name": "Python 3 (ipykernel)",
   "language": "python",
   "name": "python3"
  },
  "language_info": {
   "codemirror_mode": {
    "name": "ipython",
    "version": 3
   },
   "file_extension": ".py",
   "mimetype": "text/x-python",
   "name": "python",
   "nbconvert_exporter": "python",
   "pygments_lexer": "ipython3",
   "version": "3.12.3"
  }
 },
 "nbformat": 4,
 "nbformat_minor": 5
}
